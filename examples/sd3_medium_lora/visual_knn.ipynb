{
 "cells": [
  {
   "cell_type": "code",
   "execution_count": null,
   "id": "29b0e966-9ac8-436d-a3ad-de662108295c",
   "metadata": {},
   "outputs": [],
   "source": [
    "import sys\n",
    "sys.path.append(\"../../\")\n",
    "import json\n",
    "import numpy as np\n",
    "from PIL import Image\n",
    "import pandas as pd\n",
    "from DMIN.utils import bytes_to_image, get_config\n",
    "from datasets import load_dataset\n",
    "import hnswlib"
   ]
  },
  {
   "cell_type": "code",
   "execution_count": null,
   "id": "4df473e4-c196-4e34-9a22-7ed5372b2ba9",
   "metadata": {},
   "outputs": [],
   "source": [
    "result_df = pd.read_parquet(\"./output_dir/test_dataset.parquet\")\n",
    "train_df = load_dataset(\"huaweilin/DMin_mixed_datasets_8846\", split=\"train\").to_pandas()"
   ]
  },
  {
   "cell_type": "code",
   "execution_count": null,
   "id": "98610f65-c837-419d-99ca-1006649390ff",
   "metadata": {},
   "outputs": [],
   "source": [
    "config = get_config(\"config.json\")\n",
    "p = hnswlib.Index(space='ip', dim=config.compression.K*config.data.num_estimate_steps)\n",
    "index_path = f\"./{config.influence.cache_path}/index_K{config.compression.K}.bin\"\n",
    "p.load_index(index_path)\n",
    "p.set_ef(500)"
   ]
  },
  {
   "cell_type": "code",
   "execution_count": null,
   "id": "cddec488-6037-4b92-b393-15a519f77313",
   "metadata": {},
   "outputs": [],
   "source": [
    "def concat_images(base_image, img_list):\n",
    "    widths_0, heights = base_image.size\n",
    "    widths_1, heights = zip(*(i.size for i in img_list))\n",
    "\n",
    "    gap = 5\n",
    "    large_gap = 120\n",
    "\n",
    "    total_width = widths_0 + sum(widths_1) + gap*(len(img_list) - 1) + large_gap\n",
    "    max_height = max(heights)\n",
    "    new_img = Image.new('RGB', (total_width, max_height), color = (255,255,255))\n",
    "    \n",
    "    x_offset = 0\n",
    "    new_img.paste(base_image, (x_offset, 0))\n",
    "    x_offset += base_image.width + large_gap\n",
    "\n",
    "    for img in img_list:\n",
    "        new_img.paste(img, (x_offset, 0))\n",
    "        x_offset += img.width + gap\n",
    "\n",
    "    return new_img\n",
    "\n",
    "\n",
    "for idx, data_dict in result_df.iterrows():\n",
    "    print(\"-\"*20, idx, \"-\"*20)\n",
    "    test_loss_grad = np.hstack(data_dict[\"loss_grad_compressed_list\"][0].tolist())\n",
    "    indices = p.knn_query(test_loss_grad, k=20)[0][0]\n",
    "    print(indices)\n",
    "    base_image = bytes_to_image(result_df.iloc[idx][\"image\"])\n",
    "    concat_images(base_image.resize((512, 512)), [bytes_to_image(train_df.iloc[x][\"image\"][\"bytes\"]).resize((512, 512)) for x in indices]).show()"
   ]
  },
  {
   "cell_type": "code",
   "execution_count": null,
   "id": "97f52ca9-ba31-4fa5-9203-3a139c2f3fd5",
   "metadata": {},
   "outputs": [],
   "source": []
  }
 ],
 "metadata": {
  "kernelspec": {
   "display_name": "Python 3 (ipykernel)",
   "language": "python",
   "name": "python3"
  },
  "language_info": {
   "codemirror_mode": {
    "name": "ipython",
    "version": 3
   },
   "file_extension": ".py",
   "mimetype": "text/x-python",
   "name": "python",
   "nbconvert_exporter": "python",
   "pygments_lexer": "ipython3",
   "version": "3.10.16"
  }
 },
 "nbformat": 4,
 "nbformat_minor": 5
}
