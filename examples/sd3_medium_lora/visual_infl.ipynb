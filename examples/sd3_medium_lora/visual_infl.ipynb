{
 "cells": [
  {
   "cell_type": "code",
   "execution_count": null,
   "id": "29b0e966-9ac8-436d-a3ad-de662108295c",
   "metadata": {},
   "outputs": [],
   "source": [
    "import sys\n",
    "sys.path.append(\"../../\")\n",
    "import json\n",
    "import numpy as np\n",
    "from PIL import Image\n",
    "import pandas as pd\n",
    "from DMIN.utils import bytes_to_image\n",
    "from datasets import load_dataset"
   ]
  },
  {
   "cell_type": "code",
   "execution_count": null,
   "id": "4df473e4-c196-4e34-9a22-7ed5372b2ba9",
   "metadata": {},
   "outputs": [],
   "source": [
    "result_df = pd.read_parquet(\"./output_dir/test_dataset.parquet\")\n",
    "train_df = load_dataset(\"huaweilin/DMin_mixed_datasets_8846\", split=\"train\").to_pandas()"
   ]
  },
  {
   "cell_type": "code",
   "execution_count": null,
   "id": "cddec488-6037-4b92-b393-15a519f77313",
   "metadata": {},
   "outputs": [],
   "source": [
    "for idx, data_dict in result_df.iterrows():\n",
    "    print(\"-\"*20, idx, \"-\"*20)\n",
    "    print(data_dict[\"prompt\"])\n",
    "    bytes_to_image(data_dict[\"image\"]).show()"
   ]
  },
  {
   "cell_type": "code",
   "execution_count": null,
   "id": "391b45a4-4c89-4940-a1fb-7d60eb5f1add",
   "metadata": {},
   "outputs": [],
   "source": [
    "def concat_images(base_image, img_list):\n",
    "    widths_0, heights = base_image.size\n",
    "    widths_1, heights = zip(*(i.size for i in img_list))\n",
    "\n",
    "    gap = 5\n",
    "    large_gap = 120\n",
    "\n",
    "    total_width = widths_0 + sum(widths_1) + gap*(len(img_list) - 1) + large_gap\n",
    "    max_height = max(heights)\n",
    "    new_img = Image.new('RGB', (total_width, max_height), color = (255,255,255))\n",
    "    \n",
    "    x_offset = 0\n",
    "    new_img.paste(base_image, (x_offset, 0))\n",
    "    x_offset += base_image.width + large_gap\n",
    "\n",
    "    for img in img_list:\n",
    "        new_img.paste(img, (x_offset, 0))\n",
    "        x_offset += img.width + gap\n",
    "\n",
    "    return new_img\n",
    "\n",
    "for idx in range(len(result_df)):\n",
    "    base_image = bytes_to_image(result_df.iloc[idx][\"image\"])\n",
    "    results_list = [json.loads(x) for x in open(f\"./output_dir/results_{idx}.jsonl\").readlines()]\n",
    "    infl_list = [x[\"compressed_influence_list\"][0] for x in results_list]\n",
    "    sorted_index = np.argsort(infl_list)[-20:][::-1]\n",
    "    concat_images(base_image.resize((512, 512)), [bytes_to_image(train_df.iloc[x][\"image\"][\"bytes\"]).resize((512, 512)) for x in sorted_index]).show()"
   ]
  },
  {
   "cell_type": "code",
   "execution_count": null,
   "id": "97f52ca9-ba31-4fa5-9203-3a139c2f3fd5",
   "metadata": {},
   "outputs": [],
   "source": []
  },
  {
   "cell_type": "code",
   "execution_count": null,
   "id": "5d139bae-4b21-4599-ae83-1176a6415a9a",
   "metadata": {},
   "outputs": [],
   "source": []
  }
 ],
 "metadata": {
  "kernelspec": {
   "display_name": "Python 3 (ipykernel)",
   "language": "python",
   "name": "python3"
  },
  "language_info": {
   "codemirror_mode": {
    "name": "ipython",
    "version": 3
   },
   "file_extension": ".py",
   "mimetype": "text/x-python",
   "name": "python",
   "nbconvert_exporter": "python",
   "pygments_lexer": "ipython3",
   "version": "3.10.16"
  }
 },
 "nbformat": 4,
 "nbformat_minor": 5
}
